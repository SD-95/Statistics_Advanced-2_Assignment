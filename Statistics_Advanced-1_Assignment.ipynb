{
 "cells": [
  {
   "cell_type": "markdown",
   "metadata": {},
   "source": [
    "## 1. Explain the properties of the F-distribution. "
   ]
  },
  {
   "cell_type": "code",
   "execution_count": null,
   "metadata": {},
   "outputs": [],
   "source": [
    "'''\n",
    "* The f-distribution is a probability distribution that is useful in the context of comparing variance of two or more sample.\n",
    "* it is right skewed and takes only non-negative values.\n",
    "* the f-distribution with d1 & d2 (degree of freedom) is the distribution of x given by x = ( s1/d1 ) / ( s2/d2 )\n",
    "  where, s1 & s2 are the independent random variables with chi-square distribution. \n",
    "         d1 & d2 are the degree of freedom.\n",
    "* the f-statistics is (s1² / s2²),\n",
    "  which is also known as variance ratio test.\n",
    "* since, s1² & s2² is there, which is a non-negative distribution.\n",
    "* As degree of freedom 1 & degree of freedom 2 >= 30,\n",
    "  the f-distribution is behaving like a normal distribution.\n",
    "'''"
   ]
  },
  {
   "cell_type": "markdown",
   "metadata": {},
   "source": [
    "## 2. In which types of statistical tests is the F-distribution used, and why is it appropriate for these tests?"
   ]
  },
  {
   "cell_type": "code",
   "execution_count": null,
   "metadata": {},
   "outputs": [],
   "source": [
    "'''\n",
    "* The F-distribution is widely used in statistical tests that involve comparing variances or assessing multiple groups simultaneously. \n",
    "* It is appropriate for these tests because it is derived as the ratio of two independent chi-squared distributions \n",
    "  (scaled by their respective degrees of freedom), which makes it ideal for comparing variability.\n",
    "'''"
   ]
  },
  {
   "cell_type": "markdown",
   "metadata": {},
   "source": [
    "## 3. What are the key assumptions required for conducting an F-test to compare the variances of two populations?"
   ]
  },
  {
   "cell_type": "code",
   "execution_count": null,
   "metadata": {},
   "outputs": [],
   "source": [
    "'''\n",
    "To conduct an F-test to compare the variances of two populations, the following key assumptions must be met:\n",
    "\n",
    "Independence: \n",
    "    --> The two samples must be independent of each other.\n",
    "    --> This means that the selection of one sample should not influence the selection of the other.\n",
    "\n",
    "Normality: \n",
    "    --> Both populations from which the samples are drawn should be normally distributed.\n",
    "    --> This assumption is crucial, as the F-test is sensitive to departures from normality, especially when sample sizes are small.\n",
    "\n",
    "Equal Variances (Homoscedasticity): \n",
    "    --> This assumption is somewhat counterintuitive, as the F-test is specifically designed to test for equal variances. \n",
    "    --> However, it's important to note that this assumption is not strictly required for the F-test to be valid. \n",
    "    --> If the assumption of equal variances is violated, alternative tests like Levene's test or Bartlett's test can be used to assess the equality of variances. \n",
    "    --> If the variances are significantly different, other statistical tests, such as the Welch's t-test, can be used to compare means.\n",
    "'''"
   ]
  },
  {
   "cell_type": "markdown",
   "metadata": {},
   "source": [
    "## 4. What is the purpose of ANOVA, and how does it differ from a t-test?"
   ]
  },
  {
   "cell_type": "code",
   "execution_count": null,
   "metadata": {},
   "outputs": [],
   "source": [
    "'''\n",
    "ANOVA :\n",
    "\n",
    "    * Analysis of Variance (ANOVA) is a statistical technique used to compare the means of two or more groups.\n",
    "    * It helps us determine whether there are significant differences between the means of these groups. \n",
    "    * By breaking down the total variability in the data into two components, \n",
    "      ANOVA allows us to assess if the observed differences are likely due to chance or if they are truly significant.\n",
    "\n",
    "Key Difference Between ANOVA and t-test:\n",
    "\n",
    "    t-test: Used to compare the means of two groups. It determines if there is a significant difference between the means of these two groups.\n",
    "    ANOVA: Used to compare the means of more than two groups. It determines if there is a significant difference among the means of these multiple groups. \n",
    "\n",
    "Why ANOVA is Preferred Over Multiple t-tests ?\n",
    "\n",
    "    When comparing multiple groups, conducting multiple pairwise t-tests increases the risk of Type I error (false positive). \n",
    "    ANOVA provides a more efficient and controlled way to compare multiple groups while maintaining the overall significance level.\n",
    "\n",
    "Key point:\n",
    "\n",
    "Feature\t                         t-test\t                                ANOVA\n",
    "Number of Groups\t               2\t                               2 or more\n",
    "Purpose\t                    Compare means of two groups\t        Compare means of multiple groups\n",
    "Testtype Statistic\t            t-statistic\t                         F-statistic\n",
    "'''"
   ]
  },
  {
   "cell_type": "markdown",
   "metadata": {},
   "source": [
    "## 5. Explain when and why you would use a one-way ANOVA instead of multiple t-tests when comparing more than two groups"
   ]
  },
  {
   "cell_type": "code",
   "execution_count": null,
   "metadata": {},
   "outputs": [],
   "source": [
    "'''\n",
    "** When to Use:\n",
    "\n",
    "   --> One-way ANOVA:\n",
    "        * Multiple Comparisons: When you want to compare the means of three or more groups simultaneously.\n",
    "        * Overall Difference: It determines if there is a significant difference among the group means.\n",
    "\n",
    "   --> Multiple t-tests:\n",
    "        Pairwise Comparisons: When you want to compare the means of two specific groups at a time.\n",
    "        Specific Hypotheses: If you have specific hypotheses about which groups will differ from each other.\n",
    "\n",
    "** Why Use:\n",
    "\n",
    "   --> One-way ANOVA:\n",
    "        Controls Type I Error Rate: By performing a single test, it reduces the risk of making a Type I error (false positive) compared to multiple t-tests.   \n",
    "        More Powerful: It is more statistically powerful, especially when the sample sizes are relatively equal across groups.\n",
    "\n",
    "   --> Multiple t-tests:\n",
    "        Targeted Comparisons: It allows for focused comparisons between pairs of groups.\n",
    "        Flexibility: It can be more flexible in certain experimental designs.\n",
    "\n",
    "In summary:\n",
    "\n",
    "** One-way ANOVA is the preferred method when you want to compare multiple groups simultaneously and control the overall Type I error rate.   \n",
    "** Multiple t-tests are suitable for specific pairwise comparisons, but be cautious of the increased risk of Type I error.\n",
    "'''"
   ]
  },
  {
   "cell_type": "markdown",
   "metadata": {},
   "source": [
    "## 6. Explain how variance is partitioned in ANOVA into between-group variance and within-group variance. How does this partitioning contribute to the calculation of the F-statistic?"
   ]
  },
  {
   "cell_type": "code",
   "execution_count": null,
   "metadata": {},
   "outputs": [],
   "source": [
    "'''\n",
    "In ANOVA, the total variance in a dataset is partitioned into two components:\n",
    "\n",
    "(i)  Between-Group Variance: \n",
    "\n",
    "       This measures the variability between the means of different groups. \n",
    "       It represents the differences in the average values of the dependent variable across the different groups.  \n",
    "\n",
    "(ii) Within-Group Variance: \n",
    "\n",
    "       This measures the variability within each group. \n",
    "       It represents the natural variation or error that exists within each group, independent of the group differences.\n",
    "\n",
    "The F-statistic is a ratio of two variances:  F = (Between-Group Variance) / (Within-Group Variance)\n",
    "'''"
   ]
  },
  {
   "cell_type": "markdown",
   "metadata": {},
   "source": [
    "## 7. Compare the classical (frequentist) approach to ANOVA with the Bayesian approach. What are the key differences in terms of how they handle uncertainty, parameter estimation, and hypothesis testing?"
   ]
  },
  {
   "cell_type": "code",
   "execution_count": null,
   "metadata": {},
   "outputs": [],
   "source": [
    "'''\n",
    "Classical (Frequentist) vs. Bayesian ANOVA Key Differences As Follows:\n",
    "\n",
    "** Uncertainty:\n",
    "\n",
    "    Classical: \n",
    "    --> Treats parameters as fixed, unknown quantities. \n",
    "    --> Uncertainty is expressed in terms of confidence intervals and p-values, \n",
    "        which are probabilities of observing data as extreme or more extreme, given the null hypothesis.\n",
    "\n",
    "    Bayesian: \n",
    "    --> Treats parameters as random variables with probability distributions. \n",
    "    --> Uncertainty is quantified by probability distributions, allowing for a more nuanced understanding of the range of possible values. \n",
    "\n",
    "** Parameter Estimation:\n",
    "\n",
    "    Classical: \n",
    "    --> Uses point estimates (e.g., sample means) and confidence intervals to estimate population parameters. \n",
    "    --> The goal is to find the \"best\" estimate based on the data.\n",
    "\n",
    "    Bayesian: \n",
    "    --> Uses prior beliefs about the parameters, combined with the observed data, to obtain a posterior distribution. \n",
    "    --> This posterior distribution represents the updated beliefs about the parameters after considering the evidence.\n",
    "\n",
    "** Hypothesis Testing:\n",
    "\n",
    "    Classical: \n",
    "    --> Tests null hypotheses using p-values. \n",
    "    --> A small p-value indicates evidence against the null hypothesis. However, it doesn't provide direct evidence for the alternative hypothesis.\n",
    "\n",
    "    Bayesian: \n",
    "    --> Directly calculates the probability of the hypothesis being true, given the observed data. \n",
    "    --> This is done by comparing the posterior probability of the hypothesis to the posterior probability of the null hypothesis. \n",
    "'''"
   ]
  },
  {
   "cell_type": "markdown",
   "metadata": {},
   "source": [
    "## 8. Question2 You have two sets of data representing the incomes of two different professions1\n",
    "###  --> Profession A2 [48, 52, 55, 60, 62]\n",
    "###  --> Profession B2 [45, 50, 55, 52, 47] Perform an F-test to determine if the variances of the two professions' \n",
    "###      incomes are equal. What are your conclusions based on the F-test?\n",
    "\n",
    "### Task2 Use Python to calculate the F-statistic and p-value for the given data.\n",
    "\n",
    "### Objective2 Gain experience in performing F-tests and interpreting the results in terms of variance comparison"
   ]
  },
  {
   "cell_type": "code",
   "execution_count": 4,
   "metadata": {},
   "outputs": [
    {
     "name": "stdout",
     "output_type": "stream",
     "text": [
      "F-statistic: 3.232989690721649\n",
      "p-value: 0.10987970118946545\n",
      "Fail to reject the null hypothesis: Variances are not significantly different.\n"
     ]
    }
   ],
   "source": [
    "#step-1:\n",
    "\n",
    "'''\n",
    "null hypothesis : s1² = s2²\n",
    "alternate hypothesis : s1² ≠ s2²\n",
    "'''\n",
    "\n",
    "#step-2:\n",
    "\n",
    "'''type of test is f-test\n",
    "   and it is a one tail test (values is always non-negative and right skewed)\n",
    "'''\n",
    "#step:3\n",
    "\n",
    "import scipy.stats as stats\n",
    "\n",
    "profession_a = [48, 52, 55, 60, 62]\n",
    "profession_b = [45, 50, 55, 52, 47]\n",
    "\n",
    "f_statistic, p_value = stats.f_oneway(profession_a, profession_b)\n",
    "\n",
    "#step:4\n",
    "\n",
    "print(\"F-statistic:\", f_statistic)\n",
    "print(\"p-value:\", p_value)\n",
    "\n",
    "alpha = 0.05  # Significance level\n",
    "\n",
    "#step:5\n",
    "\n",
    "if p_value < alpha:\n",
    "    print(\"Reject the null hypothesis: Variances are significantly different.\")\n",
    "else:\n",
    "    print(\"Fail to reject the null hypothesis: Variances are not significantly different.\")"
   ]
  },
  {
   "cell_type": "markdown",
   "metadata": {},
   "source": [
    "## 9. Question2 Conduct a one-way ANOVA to test whether there are any statistically significant differences in average heights between three different regions with the following data1\n",
    "#### * Region A2 [160, 162, 165, 158, 164]\n",
    "#### * Region B2 [172, 175, 170, 168, 174]\n",
    "#### * Region C2 [180, 182, 179, 185, 183]\n",
    "#### * Task2 Write Python code to perform the one-way ANOVA and interpret the results.\n",
    "#### * Objective2 Learn how to perform one-way ANOVA using Python and interpret F-statistic and p-value."
   ]
  },
  {
   "cell_type": "code",
   "execution_count": 3,
   "metadata": {},
   "outputs": [
    {
     "name": "stdout",
     "output_type": "stream",
     "text": [
      "F-statistic: 67.87330316742101\n",
      "p-value: 2.8706641879370266e-07\n",
      "Reject the null hypothesis: At least one group mean is different.\n"
     ]
    }
   ],
   "source": [
    "#step-1:\n",
    "\n",
    "'''\n",
    "null hypothesis : (μA = μB = μc)\n",
    "Alternative Hypothesis: At least one group mean is different from the others.\n",
    "'''\n",
    "\n",
    "#step-2:\n",
    "\n",
    "'''type of test is one-way ANOVA test\n",
    "'''\n",
    "\n",
    "#step:3\n",
    "\n",
    "import scipy.stats as stats\n",
    "\n",
    "# Define the data\n",
    "region_a = [160, 162, 165, 158, 164]\n",
    "region_b = [172, 175, 170, 168, 174]\n",
    "region_c = [180, 182, 179, 185, 183]\n",
    "\n",
    "# Perform one-way ANOVA\n",
    "f_statistic, p_value = stats.f_oneway(region_a, region_b, region_c)\n",
    "\n",
    "#step:4\n",
    "\n",
    "print(\"F-statistic:\", f_statistic)\n",
    "print(\"p-value:\", p_value)\n",
    "\n",
    "alpha = 0.05\n",
    "\n",
    "##step:5 Interpret the results\n",
    "\n",
    "if p_value < alpha:\n",
    "    print(\"Reject the null hypothesis: At least one group mean is different.\")\n",
    "else:\n",
    "    print(\"Fail to reject the null hypothesis: There is no significant difference between group means.\")"
   ]
  }
 ],
 "metadata": {
  "kernelspec": {
   "display_name": "Python 3",
   "language": "python",
   "name": "python3"
  },
  "language_info": {
   "codemirror_mode": {
    "name": "ipython",
    "version": 3
   },
   "file_extension": ".py",
   "mimetype": "text/x-python",
   "name": "python",
   "nbconvert_exporter": "python",
   "pygments_lexer": "ipython3",
   "version": "3.12.5"
  }
 },
 "nbformat": 4,
 "nbformat_minor": 2
}
